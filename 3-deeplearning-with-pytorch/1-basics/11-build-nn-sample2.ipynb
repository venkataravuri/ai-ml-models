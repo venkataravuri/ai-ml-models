{
 "cells": [
  {
   "cell_type": "code",
   "execution_count": 2,
   "metadata": {},
   "outputs": [],
   "source": [
    "import torch"
   ]
  },
  {
   "cell_type": "code",
   "execution_count": 3,
   "metadata": {},
   "outputs": [],
   "source": [
    "class TinyModel(torch.nn.Module):\n",
    "    \n",
    "    def __init__(self):\n",
    "\n",
    "        super(TinyModel, self).__init__()\n",
    "\n",
    "        self.linear1 = torch.nn.Linear(100, 200)\n",
    "        self.activation = torch.nn.ReLU()\n",
    "        self.linear2 = torch.nn.Linear(200, 10)\n",
    "        self.softmax = torch.nn.Softmax()\n",
    "    \n",
    "    def forward(self, x):\n",
    "        x = self.linear1(x)\n",
    "        x = self.activation(x)\n",
    "        x = self.linear2(x)\n",
    "        x = self.softmax(x)\n",
    "\n",
    "        return x\n",
    "    \n",
    "tinymodel = TinyModel()"
   ]
  },
  {
   "cell_type": "code",
   "execution_count": 4,
   "metadata": {},
   "outputs": [
    {
     "name": "stdout",
     "output_type": "stream",
     "text": [
      "TinyModel(\n",
      "  (linear1): Linear(in_features=100, out_features=200, bias=True)\n",
      "  (activation): ReLU()\n",
      "  (linear2): Linear(in_features=200, out_features=10, bias=True)\n",
      "  (softmax): Softmax(dim=None)\n",
      ")\n"
     ]
    }
   ],
   "source": [
    "print(tinymodel)"
   ]
  },
  {
   "cell_type": "code",
   "execution_count": 5,
   "metadata": {},
   "outputs": [
    {
     "name": "stdout",
     "output_type": "stream",
     "text": [
      "Linear(in_features=200, out_features=10, bias=True)\n"
     ]
    }
   ],
   "source": [
    "print(tinymodel.linear2)"
   ]
  },
  {
   "cell_type": "code",
   "execution_count": 6,
   "metadata": {},
   "outputs": [
    {
     "name": "stdout",
     "output_type": "stream",
     "text": [
      "Parameter containing:\n",
      "tensor([[ 0.0065,  0.0837, -0.0036,  ..., -0.0227, -0.0059, -0.0494],\n",
      "        [ 0.0505,  0.0186, -0.0473,  ..., -0.0804, -0.0734,  0.0803],\n",
      "        [-0.0111,  0.0292, -0.0764,  ...,  0.0578,  0.0562,  0.0787],\n",
      "        ...,\n",
      "        [-0.0540,  0.0151, -0.0969,  ...,  0.0068,  0.0991,  0.0408],\n",
      "        [-0.0527,  0.0420,  0.0576,  ..., -0.0739, -0.0351,  0.0853],\n",
      "        [ 0.0508, -0.0593, -0.0055,  ..., -0.0075, -0.0877,  0.0137]],\n",
      "       requires_grad=True)\n",
      "Parameter containing:\n",
      "tensor([ 0.0270,  0.0923,  0.0428,  0.0615, -0.0096,  0.0420,  0.0284, -0.0097,\n",
      "         0.0174, -0.0739, -0.0398,  0.0370, -0.0380, -0.0298,  0.0996, -0.0921,\n",
      "        -0.0445,  0.0760,  0.0166,  0.0058,  0.0333, -0.0694,  0.0507, -0.0312,\n",
      "         0.0520, -0.0926,  0.0238, -0.0366, -0.0247, -0.0038, -0.0486, -0.0339,\n",
      "        -0.0433, -0.0678, -0.0422, -0.0931, -0.0262, -0.0608,  0.0077, -0.0620,\n",
      "        -0.0998,  0.0120, -0.0109,  0.0907,  0.0349,  0.0463, -0.0971,  0.0986,\n",
      "        -0.0961,  0.0834,  0.0312,  0.0746, -0.0075, -0.0327,  0.0931,  0.0455,\n",
      "        -0.0406, -0.0204, -0.0664, -0.0292,  0.0862,  0.0920, -0.0786, -0.0913,\n",
      "        -0.0582, -0.0834, -0.0777,  0.0905,  0.0291, -0.0558,  0.0349, -0.0119,\n",
      "        -0.0683,  0.0072,  0.0526,  0.0871,  0.0550,  0.0247, -0.0066, -0.0806,\n",
      "        -0.0336,  0.0353,  0.0208, -0.0341,  0.0165,  0.0583,  0.0989,  0.0556,\n",
      "         0.0080,  0.0119,  0.0607, -0.0706,  0.0556, -0.0007,  0.0643,  0.0480,\n",
      "        -0.0777, -0.0965,  0.0013, -0.0705,  0.0771, -0.0634,  0.0154,  0.0216,\n",
      "        -0.0086, -0.0014, -0.0801, -0.0338, -0.0584,  0.0712,  0.0440,  0.0827,\n",
      "        -0.0484, -0.0393, -0.0022, -0.0072, -0.0763, -0.0948,  0.0319, -0.0045,\n",
      "         0.0988,  0.0499,  0.0738, -0.0749,  0.0893,  0.0367,  0.0937, -0.0267,\n",
      "        -0.0069, -0.0504,  0.0424,  0.0529, -0.0316, -0.0886, -0.0920, -0.0435,\n",
      "        -0.0752,  0.0750,  0.0704, -0.0002, -0.0399, -0.0423,  0.0745, -0.0965,\n",
      "         0.0563,  0.0339,  0.0482, -0.0860, -0.0335,  0.0938, -0.0959, -0.0870,\n",
      "        -0.0235,  0.0760,  0.0326, -0.0788, -0.0635, -0.0560, -0.0651, -0.0482,\n",
      "        -0.0228, -0.0021, -0.0323, -0.0011,  0.0168,  0.0720, -0.0169,  0.0734,\n",
      "        -0.0948,  0.0074, -0.0509, -0.0734, -0.0940, -0.0675,  0.0580, -0.0781,\n",
      "        -0.0940, -0.0111,  0.0753,  0.0803, -0.0674,  0.0697, -0.0443,  0.0305,\n",
      "         0.0137, -0.0869, -0.0716, -0.0193,  0.0666,  0.0042,  0.0424,  0.0338,\n",
      "        -0.0324,  0.0498,  0.0870,  0.0824, -0.0697, -0.0685,  0.0873,  0.0459],\n",
      "       requires_grad=True)\n",
      "Parameter containing:\n",
      "tensor([[-0.0283, -0.0346,  0.0436,  ..., -0.0455, -0.0701,  0.0245],\n",
      "        [ 0.0611, -0.0216, -0.0482,  ..., -0.0278, -0.0098,  0.0675],\n",
      "        [-0.0604,  0.0532,  0.0566,  ...,  0.0591,  0.0455,  0.0026],\n",
      "        ...,\n",
      "        [ 0.0434,  0.0586, -0.0168,  ..., -0.0464,  0.0221,  0.0301],\n",
      "        [-0.0349, -0.0217,  0.0458,  ...,  0.0297,  0.0243,  0.0166],\n",
      "        [-0.0518, -0.0507, -0.0622,  ..., -0.0163, -0.0628,  0.0662]],\n",
      "       requires_grad=True)\n",
      "Parameter containing:\n",
      "tensor([ 0.0017,  0.0270, -0.0625, -0.0165,  0.0119, -0.0178,  0.0106, -0.0109,\n",
      "        -0.0679,  0.0013], requires_grad=True)\n"
     ]
    }
   ],
   "source": [
    "for param in tinymodel.parameters():\n",
    "    print(param)"
   ]
  },
  {
   "cell_type": "code",
   "execution_count": 7,
   "metadata": {},
   "outputs": [
    {
     "name": "stdout",
     "output_type": "stream",
     "text": [
      "tensor([[0.9333, 0.2029, 0.4908]])\n"
     ]
    }
   ],
   "source": [
    "lin = torch.nn.Linear(3, 2)\n",
    "x = torch.rand(1, 3)\n",
    "print(x)"
   ]
  },
  {
   "cell_type": "code",
   "execution_count": 8,
   "metadata": {},
   "outputs": [
    {
     "name": "stdout",
     "output_type": "stream",
     "text": [
      "Parameter containing:\n",
      "tensor([[ 0.2974,  0.4080,  0.3181],\n",
      "        [ 0.3333, -0.4913, -0.2258]], requires_grad=True)\n",
      "Parameter containing:\n",
      "tensor([0.5570, 0.3077], requires_grad=True)\n"
     ]
    }
   ],
   "source": [
    "for param in lin.parameters():\n",
    "    print(param)"
   ]
  },
  {
   "cell_type": "code",
   "execution_count": 9,
   "metadata": {},
   "outputs": [
    {
     "name": "stdout",
     "output_type": "stream",
     "text": [
      "tensor([[1.0734, 0.4083]], grad_fn=<AddmmBackward0>)\n"
     ]
    }
   ],
   "source": [
    "y = lin(x)\n",
    "print(y)"
   ]
  }
 ],
 "metadata": {
  "kernelspec": {
   "display_name": ".venv",
   "language": "python",
   "name": "python3"
  },
  "language_info": {
   "codemirror_mode": {
    "name": "ipython",
    "version": 3
   },
   "file_extension": ".py",
   "mimetype": "text/x-python",
   "name": "python",
   "nbconvert_exporter": "python",
   "pygments_lexer": "ipython3",
   "version": "3.11.2"
  },
  "orig_nbformat": 4
 },
 "nbformat": 4,
 "nbformat_minor": 2
}

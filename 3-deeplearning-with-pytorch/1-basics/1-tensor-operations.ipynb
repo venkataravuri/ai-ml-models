{
  "cells": [
    {
      "cell_type": "code",
      "execution_count": 2,
      "metadata": {
        "id": "mVAXCZ0fiEkz"
      },
      "outputs": [],
      "source": [
        "import torch"
      ]
    },
    {
      "cell_type": "markdown",
      "source": [
        "## Tensor Arange"
      ],
      "metadata": {
        "id": "HiEffbcDYSQU"
      }
    },
    {
      "cell_type": "code",
      "source": [
        "torch.arange(5)"
      ],
      "metadata": {
        "colab": {
          "base_uri": "https://localhost:8080/"
        },
        "id": "TME-Piu0YaKV",
        "outputId": "79c33e3a-5b97-4f8d-8f51-742cb2a176d9"
      },
      "execution_count": null,
      "outputs": [
        {
          "output_type": "execute_result",
          "data": {
            "text/plain": [
              "tensor([0, 1, 2, 3, 4])"
            ]
          },
          "metadata": {},
          "execution_count": 12
        }
      ]
    },
    {
      "cell_type": "code",
      "source": [
        "torch.arange(7.)"
      ],
      "metadata": {
        "colab": {
          "base_uri": "https://localhost:8080/"
        },
        "id": "jYeAtZZlZjyD",
        "outputId": "9ab12049-a49d-4c98-ba1d-5f4e37a1004c"
      },
      "execution_count": null,
      "outputs": [
        {
          "output_type": "execute_result",
          "data": {
            "text/plain": [
              "tensor([0., 1., 2., 3., 4., 5., 6.])"
            ]
          },
          "metadata": {},
          "execution_count": 13
        }
      ]
    },
    {
      "cell_type": "code",
      "source": [
        "torch.arange(2., 7.)"
      ],
      "metadata": {
        "colab": {
          "base_uri": "https://localhost:8080/"
        },
        "id": "QMhZQGmkZMp7",
        "outputId": "d81df4a1-1850-4635-fadc-397d7fc2360c"
      },
      "execution_count": null,
      "outputs": [
        {
          "output_type": "execute_result",
          "data": {
            "text/plain": [
              "tensor([2., 3., 4., 5., 6.])"
            ]
          },
          "metadata": {},
          "execution_count": 15
        }
      ]
    },
    {
      "cell_type": "markdown",
      "metadata": {
        "id": "Tq358zBIhGDr"
      },
      "source": [
        "### Tensor Reshape\n",
        " Reshaping operations are extremely important because the layers in a neural network only accept dimensional specific inputs."
      ]
    },
    {
      "cell_type": "code",
      "execution_count": 8,
      "metadata": {
        "id": "Lb2FcT-Bz0qJ",
        "colab": {
          "base_uri": "https://localhost:8080/"
        },
        "outputId": "4a981c00-259d-4695-ad5c-73a96e1a02f1"
      },
      "outputs": [
        {
          "output_type": "stream",
          "name": "stdout",
          "text": [
            "Shape: torch.Size([3, 4])\n",
            "\n",
            "tensor([[ 0,  1,  2,  3],\n",
            "        [ 4,  5,  6,  7],\n",
            "        [ 8,  9, 10, 11]])\n"
          ]
        }
      ],
      "source": [
        "t = torch.arange(12)\n",
        "t = t.reshape([3, 4])\n",
        "print(f\"Shape: {t.shape}\\n\")\n",
        "print(t)"
      ]
    },
    {
      "cell_type": "markdown",
      "metadata": {
        "id": "yTBtmqf9lvME"
      },
      "source": [
        "The reshape function in PyTorch gives the output tensor with same values and number of elements as the input tensor, it only alters the shape of the output tensor."
      ]
    },
    {
      "cell_type": "code",
      "source": [
        "t.reshape(-1, 3)"
      ],
      "metadata": {
        "colab": {
          "base_uri": "https://localhost:8080/"
        },
        "id": "WwXJROysd0Y0",
        "outputId": "25ceea66-e686-4601-c139-3e7903c3c591"
      },
      "execution_count": 10,
      "outputs": [
        {
          "output_type": "execute_result",
          "data": {
            "text/plain": [
              "tensor([[ 0,  1,  2],\n",
              "        [ 3,  4,  5],\n",
              "        [ 6,  7,  8],\n",
              "        [ 9, 10, 11]])"
            ]
          },
          "metadata": {},
          "execution_count": 10
        }
      ]
    },
    {
      "cell_type": "code",
      "source": [
        "t.reshape(-1,) # Equvivalent to (-1, n), total elements."
      ],
      "metadata": {
        "id": "KBfvlxHL6vSo",
        "outputId": "2d12706e-7f14-41ca-f50c-5f4096898141",
        "colab": {
          "base_uri": "https://localhost:8080/"
        }
      },
      "execution_count": 18,
      "outputs": [
        {
          "output_type": "execute_result",
          "data": {
            "text/plain": [
              "tensor([ 0,  1,  2,  3,  4,  5,  6,  7,  8,  9, 10, 11])"
            ]
          },
          "metadata": {},
          "execution_count": 18
        }
      ]
    },
    {
      "cell_type": "markdown",
      "metadata": {
        "id": "QwC7B_LKzvzp"
      },
      "source": [
        "deduce the number of elements contained within the tensor. The number of elements inside a tensor (12 in our case) is equal to the product of the shape's component values."
      ]
    },
    {
      "cell_type": "code",
      "execution_count": 19,
      "metadata": {
        "colab": {
          "base_uri": "https://localhost:8080/"
        },
        "id": "WQSAinwlmEaF",
        "outputId": "2288bc97-81c6-4bcd-fe00-d7ca785a4b47"
      },
      "outputs": [
        {
          "output_type": "stream",
          "name": "stdout",
          "text": [
            "Reshaped tensor: torch.Size([3, 3])\n",
            "\n",
            "Tensor: tensor([[0, 1, 2],\n",
            "        [3, 4, 5],\n",
            "        [6, 7, 8]])\n",
            "\n",
            "b: tensor([[45, 56],\n",
            "        [27, 34]])\n",
            "\n"
          ]
        },
        {
          "output_type": "execute_result",
          "data": {
            "text/plain": [
              "tensor([45, 56, 27, 34])"
            ]
          },
          "metadata": {},
          "execution_count": 19
        }
      ],
      "source": [
        "a = torch.arange(9)\n",
        "\n",
        "r = torch.reshape(a, (3,3))\n",
        "print(f'Reshaped tensor: {r.shape}\\n')\n",
        "print(f'Tensor: {r}\\n')\n",
        "\n",
        "b = torch.tensor([[45, 56], [27, 34]])\n",
        "print(f\"b: {b}\\n\")\n",
        "torch.reshape(b, (-1,))"
      ]
    },
    {
      "cell_type": "code",
      "source": [
        "print(r)\n",
        "r.reshape(9,-1)"
      ],
      "metadata": {
        "id": "04uglY-6_uy5",
        "outputId": "9d887ccf-67f7-42a0-9e9c-91ad400f508a",
        "colab": {
          "base_uri": "https://localhost:8080/"
        }
      },
      "execution_count": 28,
      "outputs": [
        {
          "output_type": "stream",
          "name": "stdout",
          "text": [
            "tensor([[0, 1, 2],\n",
            "        [3, 4, 5],\n",
            "        [6, 7, 8]])\n"
          ]
        },
        {
          "output_type": "execute_result",
          "data": {
            "text/plain": [
              "tensor([[0],\n",
              "        [1],\n",
              "        [2],\n",
              "        [3],\n",
              "        [4],\n",
              "        [5],\n",
              "        [6],\n",
              "        [7],\n",
              "        [8]])"
            ]
          },
          "metadata": {},
          "execution_count": 28
        }
      ]
    },
    {
      "cell_type": "markdown",
      "source": [
        "### Reshape vs. View\n",
        "\n",
        "\n",
        "`torch.view` returns a tensor with the new shape. The returned tensor will share the underling data with the original tensor. `torch.view` merely creates a view of the original tensor.\n",
        "\n",
        "`torch.reshape` may return a copy or a view of the original tensor. You can not count on that to return a view or a copy.\n",
        "\n",
        "Another difference is that reshape() can operate on both contiguous and non-contiguous tensor while view() can only operate on contiguous tensor."
      ],
      "metadata": {
        "id": "rHn9-kyJ_w6D"
      }
    },
    {
      "cell_type": "code",
      "source": [
        "a = torch.zeros(3, 2)\n",
        "b = a.view(2, 3)\n",
        "b.fill_(1)\n",
        "a, b"
      ],
      "metadata": {
        "id": "q1LL4ALdAI7r",
        "outputId": "d8a32432-ee7e-4e85-f2da-c704495696d2",
        "colab": {
          "base_uri": "https://localhost:8080/"
        }
      },
      "execution_count": 30,
      "outputs": [
        {
          "output_type": "execute_result",
          "data": {
            "text/plain": [
              "(tensor([[1., 1.],\n",
              "         [1., 1.],\n",
              "         [1., 1.]]),\n",
              " tensor([[1., 1., 1.],\n",
              "         [1., 1., 1.]]))"
            ]
          },
          "metadata": {},
          "execution_count": 30
        }
      ]
    },
    {
      "cell_type": "code",
      "source": [
        "a = torch.zeros(3, 2)\n",
        "b = a.T\n",
        "b.view(6) # torch.view imposes some contiguity constraints"
      ],
      "metadata": {
        "id": "dY62XT06A8RS",
        "outputId": "36fab8e0-f158-47e6-8398-c7a573dbc5ff",
        "colab": {
          "base_uri": "https://localhost:8080/",
          "height": 197
        }
      },
      "execution_count": 32,
      "outputs": [
        {
          "output_type": "error",
          "ename": "RuntimeError",
          "evalue": "view size is not compatible with input tensor's size and stride (at least one dimension spans across two contiguous subspaces). Use .reshape(...) instead.",
          "traceback": [
            "\u001b[0;31m---------------------------------------------------------------------------\u001b[0m",
            "\u001b[0;31mRuntimeError\u001b[0m                              Traceback (most recent call last)",
            "\u001b[0;32m<ipython-input-32-aeab5302540e>\u001b[0m in \u001b[0;36m<cell line: 3>\u001b[0;34m()\u001b[0m\n\u001b[1;32m      1\u001b[0m \u001b[0ma\u001b[0m \u001b[0;34m=\u001b[0m \u001b[0mtorch\u001b[0m\u001b[0;34m.\u001b[0m\u001b[0mzeros\u001b[0m\u001b[0;34m(\u001b[0m\u001b[0;36m3\u001b[0m\u001b[0;34m,\u001b[0m \u001b[0;36m2\u001b[0m\u001b[0;34m)\u001b[0m\u001b[0;34m\u001b[0m\u001b[0;34m\u001b[0m\u001b[0m\n\u001b[1;32m      2\u001b[0m \u001b[0mb\u001b[0m \u001b[0;34m=\u001b[0m \u001b[0ma\u001b[0m\u001b[0;34m.\u001b[0m\u001b[0mT\u001b[0m\u001b[0;34m\u001b[0m\u001b[0;34m\u001b[0m\u001b[0m\n\u001b[0;32m----> 3\u001b[0;31m \u001b[0mb\u001b[0m\u001b[0;34m.\u001b[0m\u001b[0mview\u001b[0m\u001b[0;34m(\u001b[0m\u001b[0;36m6\u001b[0m\u001b[0;34m)\u001b[0m\u001b[0;34m\u001b[0m\u001b[0;34m\u001b[0m\u001b[0m\n\u001b[0m",
            "\u001b[0;31mRuntimeError\u001b[0m: view size is not compatible with input tensor's size and stride (at least one dimension spans across two contiguous subspaces). Use .reshape(...) instead."
          ]
        }
      ]
    },
    {
      "cell_type": "markdown",
      "source": [
        "### Tensor Dimensions\n",
        "\n",
        "A tensor has multiple dimensions, ordered as in the following figure. There is a forward and backward indexing. Forward indexing uses positive integers, backward indexing uses negative integers.\n",
        "\n",
        "Example:\n",
        "* -1 will be the last one, in our case it will be dim=2\n",
        "* -2 will be dim=1\n",
        "* -3 will be dim=0\n",
        "\n",
        "<img src=\"https://i.sstatic.net/V3qfN.png\"/>"
      ],
      "metadata": {
        "id": "0UdoXB6a3szi"
      }
    },
    {
      "cell_type": "code",
      "source": [
        "mat = torch.arange(9).view(3, -1)\n",
        "print(mat)\n",
        "\n",
        "torch.sum(mat, dim=-2) # The negative integer refers backward index. Equivalent to dim=0"
      ],
      "metadata": {
        "id": "5MevwkOs4S_B",
        "outputId": "170e5b87-9c86-4322-fde0-2fd247bef508",
        "colab": {
          "base_uri": "https://localhost:8080/"
        }
      },
      "execution_count": 5,
      "outputs": [
        {
          "output_type": "stream",
          "name": "stdout",
          "text": [
            "tensor([[0, 1, 2],\n",
            "        [3, 4, 5],\n",
            "        [6, 7, 8]])\n"
          ]
        },
        {
          "output_type": "execute_result",
          "data": {
            "text/plain": [
              "tensor([ 9, 12, 15])"
            ]
          },
          "metadata": {},
          "execution_count": 5
        }
      ]
    },
    {
      "cell_type": "markdown",
      "source": [
        "### Torch Prod\n",
        "\n",
        "Product of all elements"
      ],
      "metadata": {
        "id": "GVboRcu_-pDP"
      }
    },
    {
      "cell_type": "code",
      "execution_count": 21,
      "metadata": {
        "colab": {
          "base_uri": "https://localhost:8080/"
        },
        "id": "dO_n-UWc0IQp",
        "outputId": "53ea23c5-a504-41a2-dd47-c305ba05d73f"
      },
      "outputs": [
        {
          "output_type": "execute_result",
          "data": {
            "text/plain": [
              "tensor(-4.4426e-05)"
            ]
          },
          "metadata": {},
          "execution_count": 21
        }
      ],
      "source": [
        "a = torch.randn(4, 3)\n",
        "torch.prod(a)"
      ]
    },
    {
      "cell_type": "code",
      "source": [
        "torch.prod(a, dim=0)"
      ],
      "metadata": {
        "id": "y9Wq1YZW-4BV",
        "outputId": "6c28529e-0e29-4586-a6c1-113a4c26f3e5",
        "colab": {
          "base_uri": "https://localhost:8080/"
        }
      },
      "execution_count": 23,
      "outputs": [
        {
          "output_type": "execute_result",
          "data": {
            "text/plain": [
              "tensor([-0.0068, -0.1895, -0.0347])"
            ]
          },
          "metadata": {},
          "execution_count": 23
        }
      ]
    },
    {
      "cell_type": "code",
      "source": [
        "torch.prod(a, 1)"
      ],
      "metadata": {
        "colab": {
          "base_uri": "https://localhost:8080/"
        },
        "id": "TMIPlnviaIc4",
        "outputId": "ae17b6f3-7db8-4b64-c9a9-684cffeb4fba"
      },
      "execution_count": 24,
      "outputs": [
        {
          "output_type": "execute_result",
          "data": {
            "text/plain": [
              "tensor([ 0.1813, -0.0709, -0.8898, -0.0039])"
            ]
          },
          "metadata": {},
          "execution_count": 24
        }
      ]
    },
    {
      "cell_type": "code",
      "source": [
        "torch.prod(a, -1)"
      ],
      "metadata": {
        "colab": {
          "base_uri": "https://localhost:8080/"
        },
        "id": "74Hcs05Tdmce",
        "outputId": "952f2eac-d2b4-41e2-fc12-38cf3b7bfb91"
      },
      "execution_count": 25,
      "outputs": [
        {
          "output_type": "execute_result",
          "data": {
            "text/plain": [
              "tensor([ 0.1813, -0.0709, -0.8898, -0.0039])"
            ]
          },
          "metadata": {},
          "execution_count": 25
        }
      ]
    },
    {
      "cell_type": "code",
      "execution_count": 26,
      "metadata": {
        "colab": {
          "base_uri": "https://localhost:8080/"
        },
        "id": "jZjBe-8u0RyX",
        "outputId": "ab509f03-cce9-4f70-c910-48d3d34602df"
      },
      "outputs": [
        {
          "output_type": "execute_result",
          "data": {
            "text/plain": [
              "12"
            ]
          },
          "metadata": {},
          "execution_count": 26
        }
      ],
      "source": [
        "a.numel()"
      ]
    },
    {
      "cell_type": "markdown",
      "metadata": {
        "id": "-wlt2ouUhSBY"
      },
      "source": [
        "For example, a 4D tensor of shape (batch_size, height, width, channels) cannot be fed into a fully connected layer that only accepts two dimensions. So we need to reshape the tensor to represent something like (batch_size, height * width * channels) which is a 2D tensor that can be used as an input to the fully connected layer."
      ]
    },
    {
      "cell_type": "code",
      "execution_count": null,
      "metadata": {
        "colab": {
          "base_uri": "https://localhost:8080/"
        },
        "id": "MCs2IXJw7MsL",
        "outputId": "19847210-711a-43a2-836f-681c11eb3d35"
      },
      "outputs": [
        {
          "output_type": "stream",
          "name": "stdout",
          "text": [
            "torch.Size([5, 4, 3, 2])\n",
            "torch.Size([5, 3, 2, 4])\n"
          ]
        }
      ],
      "source": [
        "a = torch.rand(5, 4, 3, 2) # size (5, 4, 3, 2)\n",
        "print(a.shape)\n",
        "a_t = a.permute(0, 2, 3, 1) # size (5, 3, 2, 4)\n",
        "print(a_t.shape)"
      ]
    },
    {
      "cell_type": "code",
      "source": [
        "q = a.stride()\n",
        "print(q)"
      ],
      "metadata": {
        "colab": {
          "base_uri": "https://localhost:8080/"
        },
        "id": "xU9YQUeIf4RW",
        "outputId": "5f62107f-a985-4bd9-ac09-06c1404a3684"
      },
      "execution_count": null,
      "outputs": [
        {
          "output_type": "stream",
          "name": "stdout",
          "text": [
            "(24, 6, 2, 1)\n"
          ]
        }
      ]
    },
    {
      "cell_type": "markdown",
      "source": [],
      "metadata": {
        "id": "zl0O5UnVghlO"
      }
    },
    {
      "cell_type": "markdown",
      "metadata": {
        "id": "u9g89GK7hkHH"
      },
      "source": [
        "### Flatten Operation\n",
        "\n",
        "The Flatten operation is used to convert a multi-dimensional tensor into a one-dimensional tensor. This is done by taking all the elements of the tensor and arranging them in a single dimension.\n",
        "\n",
        "For example, if we have a tensor of shape (2, 3, 4), applying the Flatten operation would result in a tensor of shape (24,), which is basically a product of the individual elements.\n",
        "\n",
        "Pytorch provides `view` & `flatten` functions to flatten tensors.\n",
        "\n",
        "*view*() reshapes the tensor without copying memory"
      ]
    },
    {
      "cell_type": "code",
      "execution_count": null,
      "metadata": {
        "colab": {
          "base_uri": "https://localhost:8080/"
        },
        "id": "TH_3aN32iVky",
        "outputId": "100cb5c8-bf2d-4aa0-ed1d-35aaff015d2f"
      },
      "outputs": [
        {
          "name": "stdout",
          "output_type": "stream",
          "text": [
            "Original shape: torch.Size([16, 5, 5, 3])\n",
            "Flattened shape: torch.Size([16, 75])\n"
          ]
        }
      ],
      "source": [
        "x = torch.randn(16, 5, 5, 3)\n",
        "print(f'Original shape: {x.shape}')\n",
        "\n",
        "x = x.view(16, 75) # ~ (16, 5*5*3)\n",
        "print(f'Flattened shape: {x.shape}')"
      ]
    },
    {
      "cell_type": "markdown",
      "metadata": {
        "id": "emS0RudjjZyb"
      },
      "source": [
        "Using `flatten` function"
      ]
    },
    {
      "cell_type": "code",
      "execution_count": null,
      "metadata": {
        "id": "zaX1BrmDjeiG",
        "colab": {
          "base_uri": "https://localhost:8080/"
        },
        "outputId": "10cec25b-6d62-4eb6-f716-fb7bb5b53827"
      },
      "outputs": [
        {
          "output_type": "stream",
          "name": "stdout",
          "text": [
            "Original shape: torch.Size([16, 5, 5, 3])\n",
            "Flattened shape: torch.Size([1200])\n"
          ]
        }
      ],
      "source": [
        "x = torch.randn(16, 5, 5, 3)\n",
        "print(f'Original shape: {x.shape}')\n",
        "\n",
        "x = x.flatten()\n",
        "print(f'Flattened shape: {x.shape}')"
      ]
    },
    {
      "cell_type": "markdown",
      "metadata": {
        "id": "151RkdY6j_c1"
      },
      "source": [
        "This method creates a tensor x of shape of (16, 5, 5, 3) and then uses flatten function to reshape into 1D tensor. This gives us a tensor of shape (24,), which is product of dimensions of original tensor."
      ]
    },
    {
      "cell_type": "markdown",
      "metadata": {
        "id": "J_y4tjbDkX4m"
      },
      "source": [
        "### Squeeze Operation\n",
        "Removes dimensions of size 1 from a tensor. Useful when you have a tensor with unnecessary dimensions that you want to get rid off."
      ]
    },
    {
      "cell_type": "code",
      "execution_count": null,
      "metadata": {
        "colab": {
          "base_uri": "https://localhost:8080/"
        },
        "id": "Kjo4dTWzk45G",
        "outputId": "c7aead67-6f0f-4665-fdd9-fa2d2101bf08"
      },
      "outputs": [
        {
          "name": "stdout",
          "output_type": "stream",
          "text": [
            "Original shape: torch.Size([3, 1, 1, 5])\n",
            "Squeezed shape: torch.Size([3, 5])\n"
          ]
        }
      ],
      "source": [
        "x = torch.randn(3, 1, 1, 5)\n",
        "print(f'Original shape: {x.shape}')\n",
        "\n",
        "x = x.squeeze()\n",
        "print(f'Squeezed shape: {x.shape}')"
      ]
    },
    {
      "cell_type": "markdown",
      "metadata": {
        "id": "yTvxWblRlOA9"
      },
      "source": [
        "An advantage of this method is, the tensor can be unsqueezed again."
      ]
    },
    {
      "cell_type": "code",
      "execution_count": null,
      "metadata": {
        "colab": {
          "base_uri": "https://localhost:8080/"
        },
        "id": "_i8_V3jJlTLF",
        "outputId": "a6707b4d-13d8-43c3-dfd1-1c036e75c66c"
      },
      "outputs": [
        {
          "output_type": "stream",
          "name": "stdout",
          "text": [
            "Unsqueezed shape: torch.Size([3, 1, 1, 5])\n"
          ]
        }
      ],
      "source": [
        "x = torch.randn(3, 5)\n",
        "x = x.unsqueeze(1)\n",
        "x = x.unsqueeze(2)\n",
        "print(f'Unsqueezed shape: {x.shape}')"
      ]
    },
    {
      "cell_type": "markdown",
      "metadata": {
        "id": "BfgohcJw1QWY"
      },
      "source": [
        " it is possible to flatten only specific parts of a tensor. For example, suppose we have a tensor of shape [2,1,28,28] for a CNN. This means that we have a batch of 2 grayscale images with height and width dimensions of 28 x 28, respectively.\n",
        "\n",
        "Here, we can specifically flatten the two images. To get the following shape: [2,1,784]. We could also squeeze off the channel axes to get the following shape: [2,784]."
      ]
    },
    {
      "cell_type": "code",
      "execution_count": null,
      "metadata": {
        "id": "FXk4YlHc1alg"
      },
      "outputs": [],
      "source": [
        "###  Concatenating tensors\n",
        "\n",
        "t1 = torch.tensor([\n",
        "    [1,2],\n",
        "    [3,4]\n",
        "])\n",
        "t2 = torch.tensor([\n",
        "    [5,6],\n",
        "    [7,8]\n",
        "])"
      ]
    },
    {
      "cell_type": "markdown",
      "metadata": {
        "id": "NpYX-KV92tHB"
      },
      "source": [
        "Combine t1 and t2 row-wise (axis-0) in the following way"
      ]
    },
    {
      "cell_type": "code",
      "execution_count": null,
      "metadata": {
        "colab": {
          "base_uri": "https://localhost:8080/"
        },
        "id": "voKOVV4M2mc1",
        "outputId": "f4538fdc-f049-4298-bd20-26f8138a1db9"
      },
      "outputs": [
        {
          "data": {
            "text/plain": [
              "tensor([[1, 2],\n",
              "        [3, 4],\n",
              "        [5, 6],\n",
              "        [7, 8]])"
            ]
          },
          "execution_count": 25,
          "metadata": {},
          "output_type": "execute_result"
        }
      ],
      "source": [
        "torch.cat((t1, t2), dim=0)"
      ]
    },
    {
      "cell_type": "markdown",
      "metadata": {
        "id": "FQQQ6pd321dX"
      },
      "source": [
        "Combine them column-wise (axis-1) like this:"
      ]
    },
    {
      "cell_type": "code",
      "execution_count": null,
      "metadata": {
        "colab": {
          "base_uri": "https://localhost:8080/"
        },
        "id": "eysls_8_23J4",
        "outputId": "3686bc8a-85f8-468a-e0f5-ea5dc983e59f"
      },
      "outputs": [
        {
          "data": {
            "text/plain": [
              "tensor([[1, 2, 5, 6],\n",
              "        [3, 4, 7, 8]])"
            ]
          },
          "execution_count": 26,
          "metadata": {},
          "output_type": "execute_result"
        }
      ],
      "source": [
        "torch.cat((t1, t2), dim=1)"
      ]
    },
    {
      "cell_type": "code",
      "execution_count": null,
      "metadata": {
        "id": "w1xuEXnuYPND"
      },
      "outputs": [],
      "source": [
        "# https://learn.microsoft.com/en-us/training/modules/intro-machine-learning-pytorch/2-tensors\n",
        "\n",
        "%matplotlib inline\n",
        "import torch\n",
        "import numpy as np"
      ]
    },
    {
      "cell_type": "code",
      "execution_count": null,
      "metadata": {
        "id": "XcBLTy9VYPNE",
        "outputId": "d707af60-eb94-4474-b4b0-4987badd91f0"
      },
      "outputs": [
        {
          "name": "stdout",
          "output_type": "stream",
          "text": [
            "Numpy np_array value: \n",
            " [[1 2]\n",
            " [3 4]] \n",
            "\n",
            "Tensor x_np value: \n",
            " tensor([[1, 2],\n",
            "        [3, 4]]) \n",
            "\n",
            "Numpy np_array after * 2 operation: \n",
            " [[2 4]\n",
            " [6 8]] \n",
            "\n",
            "Tensor x_np value after modifying numpy array: \n",
            " tensor([[2, 4],\n",
            "        [6, 8]]) \n",
            "\n"
          ]
        }
      ],
      "source": [
        "np_array = np.array(data)\n",
        "x_np = torch.from_numpy(np_array)\n",
        "print(f\"Numpy np_array value: \\n {np_array} \\n\")\n",
        "print(f\"Tensor x_np value: \\n {x_np} \\n\")\n",
        "\n",
        "np.multiply(np_array, 2, out=np_array)\n",
        "\n",
        "print(f\"Numpy np_array after * 2 operation: \\n {np_array} \\n\")\n",
        "print(f\"Tensor x_np value after modifying numpy array: \\n {x_np} \\n\")"
      ]
    },
    {
      "cell_type": "code",
      "execution_count": null,
      "metadata": {
        "id": "-ea8ddvPYPNE",
        "outputId": "54aa8c1c-0534-4b99-f622-2fa017f809c0"
      },
      "outputs": [
        {
          "name": "stdout",
          "output_type": "stream",
          "text": [
            "Ones Tensor: \n",
            " tensor([[1, 1],\n",
            "        [1, 1]]) \n",
            "\n",
            "Random Tensor: \n",
            " tensor([[0.3799, 0.0661],\n",
            "        [0.8163, 0.2027]]) \n",
            "\n"
          ]
        }
      ],
      "source": [
        "x_ones = torch.ones_like(x_data) # returns the properties of x_data\n",
        "print(f\"Ones Tensor: \\n {x_ones} \\n\")\n",
        "\n",
        "x_rand = torch.rand_like(x_data, dtype=torch.float) # Overrides the datatype of x_data\n",
        "print(f\"Random Tensor: \\n {x_rand} \\n\")"
      ]
    },
    {
      "cell_type": "code",
      "execution_count": null,
      "metadata": {
        "id": "LTtCuipMYPNE",
        "outputId": "2f04f3be-dfba-440c-c082-192c117433c3"
      },
      "outputs": [
        {
          "name": "stdout",
          "output_type": "stream",
          "text": [
            "Random Tensor: \n",
            " tensor([[0.1645, 0.6582, 0.5805],\n",
            "        [0.1835, 0.8423, 0.2670]]) \n",
            "\n",
            "Ones Tensor: \n",
            " tensor([[1., 1., 1.],\n",
            "        [1., 1., 1.]]) \n",
            "\n",
            "Zeros Tensor: \n",
            " tensor([[0., 0., 0.],\n",
            "        [0., 0., 0.]]) \n",
            "\n"
          ]
        }
      ],
      "source": [
        "shape = (2,3,)\n",
        "rand_tensor = torch.rand(shape)\n",
        "ones_tensor = torch.ones(shape)\n",
        "zeros_tensor = torch.zeros(shape)\n",
        "\n",
        "print(f\"Random Tensor: \\n {rand_tensor} \\n\")\n",
        "print(f\"Ones Tensor: \\n {ones_tensor} \\n\")\n",
        "print(f\"Zeros Tensor: \\n {zeros_tensor} \\n\")"
      ]
    },
    {
      "cell_type": "code",
      "execution_count": null,
      "metadata": {
        "id": "BrtJxwWVYPNF",
        "outputId": "d95dce99-4d3c-4b51-c5d6-b142c30f6d63"
      },
      "outputs": [
        {
          "name": "stdout",
          "output_type": "stream",
          "text": [
            "Shape of tensor: torch.Size([3, 4])\n",
            "Datatype of tensor: torch.float32\n",
            "Device tensor is stored on: cpu\n"
          ]
        }
      ],
      "source": [
        "tensor = torch.rand(3, 4)\n",
        "\n",
        "print(f\"Shape of tensor: {tensor.shape}\")\n",
        "print(f\"Datatype of tensor: {tensor.dtype}\")\n",
        "print(f\"Device tensor is stored on: {tensor.device}\")\n"
      ]
    },
    {
      "cell_type": "code",
      "execution_count": null,
      "metadata": {
        "id": "DsLx6i1EYPNF",
        "outputId": "16846142-077b-4fd2-9302-d506a089de0f"
      },
      "outputs": [
        {
          "ename": "",
          "evalue": "",
          "output_type": "error",
          "traceback": [
            "\u001b[1;31mRunning cells with 'c:\\Python311\\python.exe' requires the ipykernel package.\n",
            "\u001b[1;31mRun the following command to install 'ipykernel' into the Python environment. \n",
            "\u001b[1;31mCommand: 'c:/Python311/python.exe -m pip install ipykernel -U --user --force-reinstall'"
          ]
        }
      ],
      "source": [
        "if torch.cuda.is_available():\n",
        "    tensor = tensor.to('cuda')"
      ]
    },
    {
      "cell_type": "code",
      "execution_count": null,
      "metadata": {
        "colab": {
          "base_uri": "https://localhost:8080/"
        },
        "id": "SUmLX1UpYPNF",
        "outputId": "2358904d-3fa3-4c39-9748-23fcc1fca452"
      },
      "outputs": [
        {
          "output_type": "stream",
          "name": "stdout",
          "text": [
            "First row:  tensor([1., 1., 1., 1.])\n",
            "First column:  tensor([1., 1., 1., 1.])\n",
            "Last column: tensor([1., 1., 1., 1.])\n",
            "tensor([[1., 0., 1., 1.],\n",
            "        [1., 0., 1., 1.],\n",
            "        [1., 0., 1., 1.],\n",
            "        [1., 0., 1., 1.]])\n"
          ]
        }
      ],
      "source": [
        "tensor = torch.ones(4, 4)\n",
        "print('First row: ',tensor[0])\n",
        "print('First column: ', tensor[:, 0])\n",
        "print('Last column:', tensor[..., -1])\n",
        "tensor[:,1] = 0\n",
        "print(tensor)"
      ]
    },
    {
      "cell_type": "code",
      "execution_count": null,
      "metadata": {
        "id": "8g_OwOElYPNH",
        "outputId": "40fccc1b-a1ab-4827-99fe-1dd43c8b8f37"
      },
      "outputs": [
        {
          "name": "stdout",
          "output_type": "stream",
          "text": [
            "tensor([[1., 0., 1., 1., 1., 0., 1., 1., 1., 0., 1., 1.],\n",
            "        [1., 0., 1., 1., 1., 0., 1., 1., 1., 0., 1., 1.],\n",
            "        [1., 0., 1., 1., 1., 0., 1., 1., 1., 0., 1., 1.],\n",
            "        [1., 0., 1., 1., 1., 0., 1., 1., 1., 0., 1., 1.]])\n"
          ]
        }
      ],
      "source": [
        "t1 = torch.cat([tensor, tensor, tensor], dim=1)\n",
        "print(t1)"
      ]
    },
    {
      "cell_type": "code",
      "execution_count": null,
      "metadata": {
        "colab": {
          "base_uri": "https://localhost:8080/"
        },
        "id": "isAQ0x9vYPNH",
        "outputId": "82bbdc67-d31d-4136-c0c0-027c2cc7d7ef"
      },
      "outputs": [
        {
          "output_type": "stream",
          "name": "stdout",
          "text": [
            "tensor([[3., 3., 3., 3.],\n",
            "        [3., 3., 3., 3.],\n",
            "        [3., 3., 3., 3.],\n",
            "        [3., 3., 3., 3.]])\n",
            "tensor([[3., 3., 3., 3.],\n",
            "        [3., 3., 3., 3.],\n",
            "        [3., 3., 3., 3.],\n",
            "        [3., 3., 3., 3.]])\n"
          ]
        }
      ],
      "source": [
        "print(tensor @ tensor.T)\n",
        "print(tensor.matmul(tensor.T))"
      ]
    },
    {
      "cell_type": "code",
      "source": [
        "y3 = torch.rand_like(tensor)\n",
        "print(y3)\n",
        "torch.matmul(tensor, tensor.T, out=y3)"
      ],
      "metadata": {
        "id": "EDy9IAUvxyx6",
        "outputId": "07e8e577-1375-4322-e5bb-774adb0d9c3b",
        "colab": {
          "base_uri": "https://localhost:8080/"
        }
      },
      "execution_count": null,
      "outputs": [
        {
          "output_type": "stream",
          "name": "stdout",
          "text": [
            "tensor([[0.9013, 0.8849, 0.2794, 0.5341],\n",
            "        [0.6592, 0.7621, 0.0658, 0.0542],\n",
            "        [0.3638, 0.6425, 0.8752, 0.5873],\n",
            "        [0.0620, 0.0884, 0.9533, 0.9562]])\n"
          ]
        },
        {
          "output_type": "execute_result",
          "data": {
            "text/plain": [
              "tensor([[3., 3., 3., 3.],\n",
              "        [3., 3., 3., 3.],\n",
              "        [3., 3., 3., 3.],\n",
              "        [3., 3., 3., 3.]])"
            ]
          },
          "metadata": {},
          "execution_count": 65
        }
      ]
    },
    {
      "cell_type": "code",
      "source": [
        "print(tensor * tensor)\n",
        "print(tensor.mul(tensor))"
      ],
      "metadata": {
        "id": "P9eXTYyPx6Pv",
        "outputId": "0367d38d-0bb9-4100-db46-0887758ac5f3",
        "colab": {
          "base_uri": "https://localhost:8080/"
        }
      },
      "execution_count": null,
      "outputs": [
        {
          "output_type": "stream",
          "name": "stdout",
          "text": [
            "tensor([[1., 0., 1., 1.],\n",
            "        [1., 0., 1., 1.],\n",
            "        [1., 0., 1., 1.],\n",
            "        [1., 0., 1., 1.]])\n",
            "tensor([[1., 0., 1., 1.],\n",
            "        [1., 0., 1., 1.],\n",
            "        [1., 0., 1., 1.],\n",
            "        [1., 0., 1., 1.]])\n"
          ]
        }
      ]
    },
    {
      "cell_type": "code",
      "source": [
        "z3 = torch.rand_like(tensor)\n",
        "torch.mul(tensor, tensor, out=z3)"
      ],
      "metadata": {
        "id": "V5iSX6U4ySR7",
        "outputId": "abdc3a61-c2de-4d66-cffc-50e8783bb354",
        "colab": {
          "base_uri": "https://localhost:8080/"
        }
      },
      "execution_count": null,
      "outputs": [
        {
          "output_type": "execute_result",
          "data": {
            "text/plain": [
              "tensor([[1., 0., 1., 1.],\n",
              "        [1., 0., 1., 1.],\n",
              "        [1., 0., 1., 1.],\n",
              "        [1., 0., 1., 1.]])"
            ]
          },
          "metadata": {},
          "execution_count": 68
        }
      ]
    },
    {
      "cell_type": "code",
      "execution_count": null,
      "metadata": {
        "colab": {
          "base_uri": "https://localhost:8080/"
        },
        "id": "q6NgrO5xYPNH",
        "outputId": "5b442eea-5fdf-4a96-98ee-ae23e38d1369"
      },
      "outputs": [
        {
          "output_type": "stream",
          "name": "stdout",
          "text": [
            "12.0 <class 'float'>\n"
          ]
        }
      ],
      "source": [
        "agg = tensor.sum()\n",
        "agg_item = agg.item()\n",
        "print(agg_item, type(agg_item))"
      ]
    },
    {
      "cell_type": "code",
      "execution_count": null,
      "metadata": {
        "colab": {
          "base_uri": "https://localhost:8080/"
        },
        "id": "R9VMS2CoYPNH",
        "outputId": "836cd21c-f898-4a8d-c3d7-16f2f539e808"
      },
      "outputs": [
        {
          "output_type": "stream",
          "name": "stdout",
          "text": [
            "tensor([[1., 0., 1., 1.],\n",
            "        [1., 0., 1., 1.],\n",
            "        [1., 0., 1., 1.],\n",
            "        [1., 0., 1., 1.]]) \n",
            "\n",
            "tensor([[6., 5., 6., 6.],\n",
            "        [6., 5., 6., 6.],\n",
            "        [6., 5., 6., 6.],\n",
            "        [6., 5., 6., 6.]])\n"
          ]
        }
      ],
      "source": [
        "print(tensor, \"\\n\")\n",
        "tensor.add_(5)\n",
        "print(tensor)"
      ]
    },
    {
      "cell_type": "code",
      "execution_count": null,
      "metadata": {
        "colab": {
          "base_uri": "https://localhost:8080/"
        },
        "id": "rB8qpLcQYPNI",
        "outputId": "580486d5-d780-434f-a8e2-c53856d98191"
      },
      "outputs": [
        {
          "output_type": "stream",
          "name": "stdout",
          "text": [
            "t: tensor([1., 1., 1., 1., 1.])\n",
            "n: [1. 1. 1. 1. 1.]\n"
          ]
        }
      ],
      "source": [
        "t = torch.ones(5)\n",
        "print(f\"t: {t}\")\n",
        "n = t.numpy()\n",
        "print(f\"n: {n}\")"
      ]
    },
    {
      "cell_type": "code",
      "execution_count": null,
      "metadata": {
        "colab": {
          "base_uri": "https://localhost:8080/"
        },
        "id": "Rfo_tcDPYPNI",
        "outputId": "1fbd8f82-1319-401e-927d-c6e2816e3738"
      },
      "outputs": [
        {
          "output_type": "stream",
          "name": "stdout",
          "text": [
            "t: tensor([2., 2., 2., 2., 2.])\n",
            "n: [2. 2. 2. 2. 2.]\n"
          ]
        }
      ],
      "source": [
        "t.add_(1)\n",
        "print(f\"t: {t}\")\n",
        "print(f\"n: {n}\")"
      ]
    },
    {
      "cell_type": "code",
      "execution_count": null,
      "metadata": {
        "colab": {
          "base_uri": "https://localhost:8080/",
          "height": 162
        },
        "id": "dMgMYLvkYPNI",
        "outputId": "d28f1981-8afe-4b14-f1b6-093dfeaaa8ec"
      },
      "outputs": [
        {
          "output_type": "error",
          "ename": "NameError",
          "evalue": "name 'np' is not defined",
          "traceback": [
            "\u001b[0;31m---------------------------------------------------------------------------\u001b[0m",
            "\u001b[0;31mNameError\u001b[0m                                 Traceback (most recent call last)",
            "\u001b[0;32m<ipython-input-74-db43845e14b6>\u001b[0m in \u001b[0;36m<cell line: 1>\u001b[0;34m()\u001b[0m\n\u001b[0;32m----> 1\u001b[0;31m \u001b[0mn\u001b[0m \u001b[0;34m=\u001b[0m \u001b[0mnp\u001b[0m\u001b[0;34m.\u001b[0m\u001b[0mones\u001b[0m\u001b[0;34m(\u001b[0m\u001b[0;36m5\u001b[0m\u001b[0;34m)\u001b[0m\u001b[0;34m\u001b[0m\u001b[0;34m\u001b[0m\u001b[0m\n\u001b[0m\u001b[1;32m      2\u001b[0m \u001b[0mt\u001b[0m \u001b[0;34m=\u001b[0m \u001b[0mtorch\u001b[0m\u001b[0;34m.\u001b[0m\u001b[0mfrom_numpy\u001b[0m\u001b[0;34m(\u001b[0m\u001b[0mn\u001b[0m\u001b[0;34m)\u001b[0m\u001b[0;34m\u001b[0m\u001b[0;34m\u001b[0m\u001b[0m\n",
            "\u001b[0;31mNameError\u001b[0m: name 'np' is not defined"
          ]
        }
      ],
      "source": [
        "n = np.ones(5)\n",
        "t = torch.from_numpy(n)"
      ]
    },
    {
      "cell_type": "code",
      "execution_count": null,
      "metadata": {
        "id": "s_NrLFhUYPNJ",
        "outputId": "9a71cc44-1934-4ae0-88cb-4b464515e77a"
      },
      "outputs": [
        {
          "name": "stdout",
          "output_type": "stream",
          "text": [
            "t: tensor([2., 2., 2., 2., 2.], dtype=torch.float64)\n",
            "n: [2. 2. 2. 2. 2.]\n"
          ]
        }
      ],
      "source": [
        "np.add(n, 1, out=n)\n",
        "print(f\"t: {t}\")\n",
        "print(f\"n: {n}\")"
      ]
    },
    {
      "cell_type": "markdown",
      "source": [
        "### Outer\n",
        "\n",
        "https://pytorch.org/docs/stable/generated/torch.outer.html\n"
      ],
      "metadata": {
        "id": "e6kg8DlrzSYC"
      }
    },
    {
      "cell_type": "code",
      "source": [
        "t1 = torch.arange(1., 7.)\n",
        "t2 = torch.arange(1., 4.)\n",
        "\n",
        "print(t1, t2)\n",
        "\n",
        "torch.outer(t1, t2)"
      ],
      "metadata": {
        "id": "K4DDYBekzRy8",
        "outputId": "4b8a0f8a-6fd3-4927-dd29-6742195c87a9",
        "colab": {
          "base_uri": "https://localhost:8080/"
        }
      },
      "execution_count": null,
      "outputs": [
        {
          "output_type": "stream",
          "name": "stdout",
          "text": [
            "tensor([1., 2., 3., 4., 5., 6.]) tensor([1., 2., 3.])\n"
          ]
        },
        {
          "output_type": "execute_result",
          "data": {
            "text/plain": [
              "tensor([[ 1.,  2.,  3.],\n",
              "        [ 2.,  4.,  6.],\n",
              "        [ 3.,  6.,  9.],\n",
              "        [ 4.,  8., 12.],\n",
              "        [ 5., 10., 15.],\n",
              "        [ 6., 12., 18.]])"
            ]
          },
          "metadata": {},
          "execution_count": 77
        }
      ]
    },
    {
      "cell_type": "code",
      "source": [
        "torch.full((2, 3), 3.141592)"
      ],
      "metadata": {
        "id": "GD66inkkz8Kf",
        "outputId": "cdc5af40-33f3-44b7-f16b-2a1983e4c6fd",
        "colab": {
          "base_uri": "https://localhost:8080/"
        }
      },
      "execution_count": null,
      "outputs": [
        {
          "output_type": "execute_result",
          "data": {
            "text/plain": [
              "tensor([[3.1416, 3.1416, 3.1416],\n",
              "        [3.1416, 3.1416, 3.1416]])"
            ]
          },
          "metadata": {},
          "execution_count": 78
        }
      ]
    },
    {
      "cell_type": "code",
      "source": [
        "b = torch.randn(4, 6)\n",
        "print(b)\n",
        "torch.triu(b, diagonal=1)"
      ],
      "metadata": {
        "id": "eIV0OPAj4a6I",
        "outputId": "e449da48-6aa8-4b26-a1fc-cacf842e917e",
        "colab": {
          "base_uri": "https://localhost:8080/"
        }
      },
      "execution_count": null,
      "outputs": [
        {
          "output_type": "stream",
          "name": "stdout",
          "text": [
            "tensor([[-1.7552,  0.9201, -1.1096,  0.4242, -1.5970,  0.8829],\n",
            "        [ 0.2008,  0.2098,  0.6898, -0.9361, -0.3924, -1.3563],\n",
            "        [-1.4787,  1.9486, -0.6433, -0.2257,  0.9296, -0.5592],\n",
            "        [ 0.0939, -0.4387, -0.9124, -1.3092, -0.5978,  1.5021]])\n"
          ]
        },
        {
          "output_type": "execute_result",
          "data": {
            "text/plain": [
              "tensor([[ 0.0000,  0.9201, -1.1096,  0.4242, -1.5970,  0.8829],\n",
              "        [ 0.0000,  0.0000,  0.6898, -0.9361, -0.3924, -1.3563],\n",
              "        [ 0.0000,  0.0000,  0.0000, -0.2257,  0.9296, -0.5592],\n",
              "        [ 0.0000,  0.0000,  0.0000,  0.0000, -0.5978,  1.5021]])"
            ]
          },
          "metadata": {},
          "execution_count": 80
        }
      ]
    },
    {
      "cell_type": "code",
      "source": [
        "b = torch.randn(4, 6)\n",
        "print(b)\n",
        "torch.triu(b, diagonal=0)"
      ],
      "metadata": {
        "id": "wZk6rJFn4psz",
        "outputId": "61ae1af7-46b7-4f0d-985d-4d93e6298182",
        "colab": {
          "base_uri": "https://localhost:8080/"
        }
      },
      "execution_count": null,
      "outputs": [
        {
          "output_type": "stream",
          "name": "stdout",
          "text": [
            "tensor([[ 0.2072, -0.3390, -0.8492, -0.9737, -1.5321, -0.4971],\n",
            "        [ 1.5928, -0.0409, -0.5222, -0.9015, -0.2431, -2.5392],\n",
            "        [-0.1135,  0.2626, -1.1789,  0.3271,  1.6456, -0.7584],\n",
            "        [-0.6306, -0.0679, -2.0453,  0.1281, -1.2626, -0.5594]])\n"
          ]
        },
        {
          "output_type": "execute_result",
          "data": {
            "text/plain": [
              "tensor([[ 0.2072, -0.3390, -0.8492, -0.9737, -1.5321, -0.4971],\n",
              "        [ 0.0000, -0.0409, -0.5222, -0.9015, -0.2431, -2.5392],\n",
              "        [ 0.0000,  0.0000, -1.1789,  0.3271,  1.6456, -0.7584],\n",
              "        [ 0.0000,  0.0000,  0.0000,  0.1281, -1.2626, -0.5594]])"
            ]
          },
          "metadata": {},
          "execution_count": 82
        }
      ]
    },
    {
      "cell_type": "code",
      "source": [
        "a = torch.tensor([1, 2, 3])\n",
        "b = torch.tensor([4, 5, 6])\n",
        "torch.hstack((a,b))"
      ],
      "metadata": {
        "id": "AwARbpcn5iOz",
        "outputId": "e7a5a781-884f-47ed-9143-55c9f52acbdc",
        "colab": {
          "base_uri": "https://localhost:8080/"
        }
      },
      "execution_count": null,
      "outputs": [
        {
          "output_type": "execute_result",
          "data": {
            "text/plain": [
              "tensor([1, 2, 3, 4, 5, 6])"
            ]
          },
          "metadata": {},
          "execution_count": 83
        }
      ]
    },
    {
      "cell_type": "code",
      "source": [
        "a = torch.tensor([[1],[2],[3]])\n",
        "b = torch.tensor([[4],[5],[6]])\n",
        "torch.hstack((a,b))"
      ],
      "metadata": {
        "id": "yMJhYpbN5mln",
        "outputId": "014c27c0-438a-43d3-af8b-a50f06b07a73",
        "colab": {
          "base_uri": "https://localhost:8080/"
        }
      },
      "execution_count": null,
      "outputs": [
        {
          "output_type": "execute_result",
          "data": {
            "text/plain": [
              "tensor([[1, 4],\n",
              "        [2, 5],\n",
              "        [3, 6]])"
            ]
          },
          "metadata": {},
          "execution_count": 84
        }
      ]
    },
    {
      "cell_type": "markdown",
      "source": [
        "## argmax vs. max\n",
        "`max` function returns both values and indicies and `argmax` only just returns indicies."
      ],
      "metadata": {
        "id": "chFZbC0jzZ9q"
      }
    },
    {
      "cell_type": "code",
      "source": [
        "t = torch.rand(5, 4)\n",
        "print(t)\n",
        "\n",
        "val, index = t.max(dim=-1)\n",
        "val, index"
      ],
      "metadata": {
        "id": "vOVUa9Hszeaf",
        "outputId": "988a537b-761b-4205-d102-96d7d4280170",
        "colab": {
          "base_uri": "https://localhost:8080/"
        }
      },
      "execution_count": 35,
      "outputs": [
        {
          "output_type": "stream",
          "name": "stdout",
          "text": [
            "tensor([[0.7405, 0.7286, 0.2772, 0.1970],\n",
            "        [0.9941, 0.1176, 0.1670, 0.5646],\n",
            "        [0.1245, 0.6181, 0.4372, 0.1243],\n",
            "        [0.1339, 0.1868, 0.1964, 0.8357],\n",
            "        [0.6926, 0.8633, 0.7013, 0.0719]])\n"
          ]
        },
        {
          "output_type": "execute_result",
          "data": {
            "text/plain": [
              "(tensor([0.7405, 0.9941, 0.6181, 0.8357, 0.8633]), tensor([0, 0, 1, 3, 1]))"
            ]
          },
          "metadata": {},
          "execution_count": 35
        }
      ]
    },
    {
      "cell_type": "code",
      "source": [
        "index = torch.argmax(t)\n",
        "print(index)\n",
        "\n",
        "index = torch.argmax(t, dim=-1)\n",
        "print(index)\n",
        "\n",
        "index = torch.argmax(t, dim=0)\n",
        "print(index)"
      ],
      "metadata": {
        "id": "vruAmSdwCafd",
        "outputId": "50fd1038-a59d-4a8d-afc2-a864eafd438a",
        "colab": {
          "base_uri": "https://localhost:8080/"
        }
      },
      "execution_count": 40,
      "outputs": [
        {
          "output_type": "stream",
          "name": "stdout",
          "text": [
            "tensor(4)\n",
            "tensor([0, 0, 1, 3, 1])\n",
            "tensor([1, 4, 4, 3])\n"
          ]
        }
      ]
    },
    {
      "cell_type": "markdown",
      "source": [
        "### Calculate Predictions\n",
        "\n",
        "#### Softmax vs. Argmax\n",
        "\n",
        "* `softmax` helps go from: `logits` -> `prediction probabilities` -> `predictions`\n",
        "* but you can just go from: `logits` -> predictions (skip the middle step) via `torch.argmax()`\n",
        "\n",
        "For neural network classification, softmax converts output logits into prediction probabilities."
      ],
      "metadata": {
        "id": "N7j_z6dWTthr"
      }
    },
    {
      "cell_type": "code",
      "source": [
        "torch.manual_seed(42)\n",
        "\n",
        "logits = torch.rand(5, 10)\n",
        "\n",
        "probabilities = torch.nn.Softmax(dim=1)(logits)\n",
        "print(f\"{probabilities = }\\n\")\n",
        "softmax = torch.argmax(probabilities, dim=1)\n",
        "print(f\"{softmax = }\\n\")\n",
        "no_softmax = torch.argmax(logits, dim=1)\n",
        "print(f\"{no_softmax = }\\n\")"
      ],
      "metadata": {
        "id": "c2pwKH0oTs81",
        "outputId": "a897cecd-4476-47e2-9d2e-f906eda5e69f",
        "colab": {
          "base_uri": "https://localhost:8080/"
        }
      },
      "execution_count": 44,
      "outputs": [
        {
          "output_type": "stream",
          "name": "stdout",
          "text": [
            "probabilities = tensor([[0.1239, 0.1280, 0.0752, 0.1338, 0.0758, 0.0935, 0.0663, 0.1134, 0.1314,\n",
            "         0.0586],\n",
            "        [0.1305, 0.0928, 0.1222, 0.0904, 0.1075, 0.0787, 0.1242, 0.0909, 0.0669,\n",
            "         0.0960],\n",
            "        [0.0915, 0.1086, 0.0940, 0.1605, 0.0776, 0.0915, 0.1000, 0.0853, 0.1207,\n",
            "         0.0703],\n",
            "        [0.1368, 0.0569, 0.1281, 0.0946, 0.0740, 0.1186, 0.0941, 0.1304, 0.0920,\n",
            "         0.0744],\n",
            "        [0.1003, 0.0765, 0.1082, 0.1370, 0.1170, 0.0705, 0.1170, 0.0959, 0.1130,\n",
            "         0.0646]])\n",
            "\n",
            "softmax = tensor([3, 0, 3, 0, 3])\n",
            "\n",
            "no_softmax = tensor([3, 0, 3, 0, 3])\n",
            "\n"
          ]
        }
      ]
    },
    {
      "cell_type": "markdown",
      "source": [
        "### Calculate Accuracy\n",
        "\n",
        "https://saturncloud.io/blog/calculating-the-accuracy-of-pytorch-models-every-epoch/"
      ],
      "metadata": {
        "id": "iR9lgthCWxfu"
      }
    },
    {
      "cell_type": "code",
      "source": [
        "# Empty - returns a tensor filled with uninitialized data.\n",
        "torch.empty(3, 4)"
      ],
      "metadata": {
        "id": "vIqOBsCRXFxR",
        "outputId": "f4a10c1d-6197-4a5e-c437-59ccccce210b",
        "colab": {
          "base_uri": "https://localhost:8080/"
        }
      },
      "execution_count": 45,
      "outputs": [
        {
          "output_type": "execute_result",
          "data": {
            "text/plain": [
              "tensor([[1.7409e+25, 1.8465e+25, 1.6882e+25, 1.1708e-19],\n",
              "        [1.3563e-19, 8.8888e-15, 1.8469e+25, 1.0901e+27],\n",
              "        [4.0069e+24, 8.0451e+02, 1.9519e-19, 1.9432e-19]])"
            ]
          },
          "metadata": {},
          "execution_count": 45
        }
      ]
    },
    {
      "cell_type": "markdown",
      "source": [
        "### Dot vs. Matmul vs. mm\n",
        "\n",
        "* `torch.matmul` performs matrix multiplications if both arguments are 2D and computes their dot product if both arguments are 1D\n",
        "*  `torch.dot()` treats both a and b as 1D vectors (irrespective of their original shape) and computes their inner product.\n",
        "* `torch.mm` does not broadcast. For broadcasting matrix products use `torch.matmul()`."
      ],
      "metadata": {
        "id": "JwAx4F6RXulx"
      }
    },
    {
      "cell_type": "code",
      "source": [
        "# 1D inputs, same as torch.dot\n",
        "a = torch.rand(3) # n\n",
        "b = torch.rand(3) # n\n",
        "c = torch.matmul(a, b) # torch.Size([])\n",
        "print(f\"{c = }\")\n",
        "\n",
        "# 2D inputs, same as torch.mm\n",
        "a = torch.rand(3, 2) # (m, k)\n",
        "b = torch.rand(2, 3) # (k, j)\n",
        "c = torch.matmul(a, b) # torch.Size([m, j])\n",
        "print(f\"{c = }\")"
      ],
      "metadata": {
        "id": "IaD_aY09Xt67",
        "outputId": "3f60659f-600f-495c-d266-766904e6cadb",
        "colab": {
          "base_uri": "https://localhost:8080/"
        }
      },
      "execution_count": 46,
      "outputs": [
        {
          "output_type": "stream",
          "name": "stdout",
          "text": [
            "c = tensor(0.2846)\n",
            "c = tensor([[0.6250, 0.6651, 0.5299],\n",
            "        [0.6404, 0.4246, 0.6117],\n",
            "        [0.4105, 0.3194, 0.3795]])\n"
          ]
        }
      ]
    },
    {
      "cell_type": "code",
      "source": [
        "ab = a.mm(b)\n",
        "print(f\"{ab = }\")\n",
        "\n",
        "ab = torch.matmul(a, b)\n",
        "print(f\"{ab = }\")\n",
        "\n",
        "ab = a @ b\n",
        "print(f\"{ab = }\")"
      ],
      "metadata": {
        "id": "Rijiq-0NYraJ",
        "outputId": "041daa1b-fc87-4c53-e3cc-8f2f1861acd2",
        "colab": {
          "base_uri": "https://localhost:8080/"
        }
      },
      "execution_count": 49,
      "outputs": [
        {
          "output_type": "stream",
          "name": "stdout",
          "text": [
            "ab = tensor([[0.6250, 0.6651, 0.5299],\n",
            "        [0.6404, 0.4246, 0.6117],\n",
            "        [0.4105, 0.3194, 0.3795]])\n",
            "ab = tensor([[0.6250, 0.6651, 0.5299],\n",
            "        [0.6404, 0.4246, 0.6117],\n",
            "        [0.4105, 0.3194, 0.3795]])\n",
            "ab = tensor([[0.6250, 0.6651, 0.5299],\n",
            "        [0.6404, 0.4246, 0.6117],\n",
            "        [0.4105, 0.3194, 0.3795]])\n"
          ]
        }
      ]
    }
  ],
  "metadata": {
    "colab": {
      "provenance": []
    },
    "kernelspec": {
      "display_name": "Python 3",
      "name": "python3"
    },
    "language_info": {
      "name": "python"
    }
  },
  "nbformat": 4,
  "nbformat_minor": 0
}